{
 "cells": [
  {
   "cell_type": "code",
   "execution_count": 2,
   "metadata": {},
   "outputs": [
    {
     "name": "stdout",
     "output_type": "stream",
     "text": [
      "   OBJECTID  CID    Location  YCoordinate  Activity\n",
      "0         1    1 -116.755910    35.980783         7\n",
      "1         2    1 -115.759242    35.049785         7\n",
      "2         3    1 -116.067446    34.454122         4\n",
      "3         4    1 -117.410988    35.307089         8\n",
      "4         5    1 -118.942412    34.501880         3\n",
      "     OBJECTID  CID    Location  YCoordinate  Activity              City\n",
      "0           1    1 -116.755910    35.980783         7    Searles Valley\n",
      "1           2    1 -115.759242    35.049785         7      Sandy Valley\n",
      "2           3    1 -116.067446    34.454122         4  Twentynine Palms\n",
      "3           4    1 -117.410988    35.307089         8             Boron\n",
      "4           5    1 -118.942412    34.501880         3          Fillmore\n",
      "..        ...  ...         ...          ...       ...               ...\n",
      "195       196    1 -117.170366    34.896415         7           Lenwood\n",
      "196       197    1 -118.251292    35.215399         8            Mojave\n",
      "197       198    1 -117.123051    35.683026         7    Searles Valley\n",
      "198       199    1 -116.690035    33.499604         7              Anza\n",
      "199       200    1 -117.358252    36.240286         4    Searles Valley\n",
      "\n",
      "[200 rows x 6 columns]\n"
     ]
    }
   ],
   "source": [
    "import pandas as pd\n",
    "import reverse_geocoder as rg\n",
    "\n",
    "fileName = 'CaliforniaPoints_Updated_0'\n",
    "df = pd.read_csv(fileName + '.csv')\n",
    "\n",
    "print(df.head())\n",
    "\n",
    "def get_city_from_coordinates(row):\n",
    "    coordinates = (row['YCoordinate'], row['Location'])  \n",
    "    result = rg.search(coordinates, mode=1)  \n",
    "    return result[0]['name']  \n",
    "\n",
    "df['City'] = df.apply(get_city_from_coordinates, axis=1)\n",
    "\n",
    "print(df)\n",
    "\n",
    "df.to_csv(fileName + '_with_city.csv', index=False)\n"
   ]
  }
 ],
 "metadata": {
  "kernelspec": {
   "display_name": "csci1470",
   "language": "python",
   "name": "python3"
  },
  "language_info": {
   "codemirror_mode": {
    "name": "ipython",
    "version": 3
   },
   "file_extension": ".py",
   "mimetype": "text/x-python",
   "name": "python",
   "nbconvert_exporter": "python",
   "pygments_lexer": "ipython3",
   "version": "3.10.9"
  },
  "orig_nbformat": 4
 },
 "nbformat": 4,
 "nbformat_minor": 2
}
